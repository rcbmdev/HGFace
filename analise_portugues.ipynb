{
 "cells": [
  {
   "cell_type": "code",
   "execution_count": 1,
   "metadata": {},
   "outputs": [
    {
     "name": "stderr",
     "output_type": "stream",
     "text": [
      "d:\\Udemy\\huggingface\\analise_sentimento\\.venv\\Lib\\site-packages\\tqdm\\auto.py:21: TqdmWarning: IProgress not found. Please update jupyter and ipywidgets. See https://ipywidgets.readthedocs.io/en/stable/user_install.html\n",
      "  from .autonotebook import tqdm as notebook_tqdm\n"
     ]
    }
   ],
   "source": [
    "from pysentimiento import create_analyzer"
   ]
  },
  {
   "cell_type": "code",
   "execution_count": 2,
   "metadata": {},
   "outputs": [
    {
     "name": "stderr",
     "output_type": "stream",
     "text": [
      "d:\\Udemy\\huggingface\\analise_sentimento\\.venv\\Lib\\site-packages\\transformers\\tokenization_utils_base.py:1601: FutureWarning: `clean_up_tokenization_spaces` was not set. It will be set to `True` by default. This behavior will be depracted in transformers v4.45, and will be then set to `False` by default. For more details check this issue: https://github.com/huggingface/transformers/issues/31884\n",
      "  warnings.warn(\n"
     ]
    }
   ],
   "source": [
    "model_analyser_sent = create_analyzer(task=\"sentiment\", lang=\"pt\")"
   ]
  },
  {
   "cell_type": "code",
   "execution_count": 3,
   "metadata": {},
   "outputs": [],
   "source": [
    "phrase1 = \"O trânsito estava horrível e cheguei atrasado ao compromisso\"\n",
    "phrase2 = \"Hoje o clima está nublado, mas não choveu\"\n",
    "phrase3 = \"Amei o livro que você me recomendou\""
   ]
  },
  {
   "cell_type": "code",
   "execution_count": 4,
   "metadata": {},
   "outputs": [
    {
     "data": {
      "text/plain": [
       "AnalyzerOutput(output=NEG, probas={NEG: 0.985, NEU: 0.010, POS: 0.004})"
      ]
     },
     "execution_count": 4,
     "metadata": {},
     "output_type": "execute_result"
    }
   ],
   "source": [
    "model_analyser_sent.predict(phrase1)"
   ]
  },
  {
   "cell_type": "code",
   "execution_count": 5,
   "metadata": {},
   "outputs": [
    {
     "data": {
      "text/plain": [
       "AnalyzerOutput(output=NEU, probas={NEU: 0.839, POS: 0.094, NEG: 0.067})"
      ]
     },
     "execution_count": 5,
     "metadata": {},
     "output_type": "execute_result"
    }
   ],
   "source": [
    "model_analyser_sent.predict(phrase2)"
   ]
  },
  {
   "cell_type": "code",
   "execution_count": 6,
   "metadata": {},
   "outputs": [
    {
     "data": {
      "text/plain": [
       "AnalyzerOutput(output=POS, probas={POS: 0.991, NEU: 0.007, NEG: 0.003})"
      ]
     },
     "execution_count": 6,
     "metadata": {},
     "output_type": "execute_result"
    }
   ],
   "source": [
    "model_analyser_sent.predict(phrase3)"
   ]
  },
  {
   "cell_type": "code",
   "execution_count": 7,
   "metadata": {},
   "outputs": [],
   "source": [
    "import pandas as pd"
   ]
  },
  {
   "cell_type": "code",
   "execution_count": 8,
   "metadata": {},
   "outputs": [],
   "source": [
    "df = pd.read_csv(\"dados/frases.csv\")"
   ]
  },
  {
   "cell_type": "code",
   "execution_count": 10,
   "metadata": {},
   "outputs": [
    {
     "data": {
      "text/html": [
       "<div>\n",
       "<style scoped>\n",
       "    .dataframe tbody tr th:only-of-type {\n",
       "        vertical-align: middle;\n",
       "    }\n",
       "\n",
       "    .dataframe tbody tr th {\n",
       "        vertical-align: top;\n",
       "    }\n",
       "\n",
       "    .dataframe thead th {\n",
       "        text-align: right;\n",
       "    }\n",
       "</style>\n",
       "<table border=\"1\" class=\"dataframe\">\n",
       "  <thead>\n",
       "    <tr style=\"text-align: right;\">\n",
       "      <th></th>\n",
       "      <th>ID</th>\n",
       "      <th>Frase</th>\n",
       "    </tr>\n",
       "  </thead>\n",
       "  <tbody>\n",
       "    <tr>\n",
       "      <th>0</th>\n",
       "      <td>1</td>\n",
       "      <td>Estou muito animado para começar o novo projet...</td>\n",
       "    </tr>\n",
       "    <tr>\n",
       "      <th>1</th>\n",
       "      <td>2</td>\n",
       "      <td>Sinto-me frustrado porque o plano não saiu com...</td>\n",
       "    </tr>\n",
       "    <tr>\n",
       "      <th>2</th>\n",
       "      <td>3</td>\n",
       "      <td>O relatório está pronto e foi enviado para rev...</td>\n",
       "    </tr>\n",
       "    <tr>\n",
       "      <th>3</th>\n",
       "      <td>4</td>\n",
       "      <td>Foi ótimo ver todos os amigos na festa ontem à...</td>\n",
       "    </tr>\n",
       "    <tr>\n",
       "      <th>4</th>\n",
       "      <td>5</td>\n",
       "      <td>O trânsito estava horrível e cheguei atrasado ...</td>\n",
       "    </tr>\n",
       "  </tbody>\n",
       "</table>\n",
       "</div>"
      ],
      "text/plain": [
       "   ID                                              Frase\n",
       "0   1  Estou muito animado para começar o novo projet...\n",
       "1   2  Sinto-me frustrado porque o plano não saiu com...\n",
       "2   3  O relatório está pronto e foi enviado para rev...\n",
       "3   4  Foi ótimo ver todos os amigos na festa ontem à...\n",
       "4   5  O trânsito estava horrível e cheguei atrasado ..."
      ]
     },
     "execution_count": 10,
     "metadata": {},
     "output_type": "execute_result"
    }
   ],
   "source": [
    "df.head()"
   ]
  },
  {
   "cell_type": "code",
   "execution_count": 11,
   "metadata": {},
   "outputs": [
    {
     "data": {
      "text/html": [
       "<div>\n",
       "<style scoped>\n",
       "    .dataframe tbody tr th:only-of-type {\n",
       "        vertical-align: middle;\n",
       "    }\n",
       "\n",
       "    .dataframe tbody tr th {\n",
       "        vertical-align: top;\n",
       "    }\n",
       "\n",
       "    .dataframe thead th {\n",
       "        text-align: right;\n",
       "    }\n",
       "</style>\n",
       "<table border=\"1\" class=\"dataframe\">\n",
       "  <thead>\n",
       "    <tr style=\"text-align: right;\">\n",
       "      <th></th>\n",
       "      <th>ID</th>\n",
       "      <th>Frase</th>\n",
       "    </tr>\n",
       "  </thead>\n",
       "  <tbody>\n",
       "    <tr>\n",
       "      <th>22</th>\n",
       "      <td>23</td>\n",
       "      <td>Foi incrível ver o crescimento da empresa este...</td>\n",
       "    </tr>\n",
       "    <tr>\n",
       "      <th>23</th>\n",
       "      <td>24</td>\n",
       "      <td>Estou irritado com as constantes quedas de ene...</td>\n",
       "    </tr>\n",
       "    <tr>\n",
       "      <th>24</th>\n",
       "      <td>25</td>\n",
       "      <td>A conferência foi bem organizada e proveitosa.</td>\n",
       "    </tr>\n",
       "    <tr>\n",
       "      <th>25</th>\n",
       "      <td>26</td>\n",
       "      <td>Hoje o dia foi tranquilo e produtivo no escrit...</td>\n",
       "    </tr>\n",
       "    <tr>\n",
       "      <th>26</th>\n",
       "      <td>27</td>\n",
       "      <td>Fiquei impressionado com a qualidade do serviç...</td>\n",
       "    </tr>\n",
       "  </tbody>\n",
       "</table>\n",
       "</div>"
      ],
      "text/plain": [
       "    ID                                              Frase\n",
       "22  23  Foi incrível ver o crescimento da empresa este...\n",
       "23  24  Estou irritado com as constantes quedas de ene...\n",
       "24  25     A conferência foi bem organizada e proveitosa.\n",
       "25  26  Hoje o dia foi tranquilo e produtivo no escrit...\n",
       "26  27  Fiquei impressionado com a qualidade do serviç..."
      ]
     },
     "execution_count": 11,
     "metadata": {},
     "output_type": "execute_result"
    }
   ],
   "source": [
    "df.tail()"
   ]
  },
  {
   "cell_type": "code",
   "execution_count": 12,
   "metadata": {},
   "outputs": [
    {
     "data": {
      "text/plain": [
       "0     Estou muito animado para começar o novo projet...\n",
       "1     Sinto-me frustrado porque o plano não saiu com...\n",
       "2     O relatório está pronto e foi enviado para rev...\n",
       "3     Foi ótimo ver todos os amigos na festa ontem à...\n",
       "4     O trânsito estava horrível e cheguei atrasado ...\n",
       "5            Hoje o clima está nublado, mas não choveu.\n",
       "6     Adorei o livro que você me recomendou; foi uma...\n",
       "7     Não consegui resolver o problema com o computa...\n",
       "8     A reunião foi marcada para as 14h, como de cos...\n",
       "9     Estou muito grato pelo apoio que recebi durant...\n",
       "10    Estou empolgado para a reunião de amanhã; acho...\n",
       "11    Estou frustrado com a falta de comunicação da ...\n",
       "12    A revisão do projeto está em andamento e deve ...\n",
       "13    Foi um prazer almoçar com você hoje, a convers...\n",
       "14    Eu estava preso no trânsito por mais de uma ho...\n",
       "15    Apesar do mau tempo, consegui fazer a caminhad...\n",
       "16    Acabei de terminar um curso online e foi extre...\n",
       "17    Estou tendo problemas para acessar os arquivos...\n",
       "18    A apresentação foi agendada para segunda-feira...\n",
       "19    Estou satisfeito com o progresso que fizemos n...\n",
       "20    Eu não gostei muito do filme que assisti ontem...\n",
       "21    Os documentos foram entregues e agora estão em...\n",
       "22    Foi incrível ver o crescimento da empresa este...\n",
       "23    Estou irritado com as constantes quedas de ene...\n",
       "24       A conferência foi bem organizada e proveitosa.\n",
       "25    Hoje o dia foi tranquilo e produtivo no escrit...\n",
       "26    Fiquei impressionado com a qualidade do serviç...\n",
       "Name: Frase, dtype: object"
      ]
     },
     "execution_count": 12,
     "metadata": {},
     "output_type": "execute_result"
    }
   ],
   "source": [
    "df[\"Frase\"]"
   ]
  },
  {
   "cell_type": "code",
   "execution_count": 13,
   "metadata": {},
   "outputs": [
    {
     "name": "stderr",
     "output_type": "stream",
     "text": [
      "Map: 100%|██████████| 27/27 [00:00<00:00, 634.05 examples/s]\n"
     ]
    },
    {
     "data": {
      "text/plain": [
       "[AnalyzerOutput(output=POS, probas={POS: 0.951, NEU: 0.046, NEG: 0.003}),\n",
       " AnalyzerOutput(output=NEG, probas={NEG: 0.883, NEU: 0.110, POS: 0.007}),\n",
       " AnalyzerOutput(output=NEU, probas={NEU: 0.937, POS: 0.041, NEG: 0.023}),\n",
       " AnalyzerOutput(output=POS, probas={POS: 0.986, NEU: 0.011, NEG: 0.002}),\n",
       " AnalyzerOutput(output=NEG, probas={NEG: 0.981, NEU: 0.014, POS: 0.005}),\n",
       " AnalyzerOutput(output=NEU, probas={NEU: 0.771, POS: 0.117, NEG: 0.111}),\n",
       " AnalyzerOutput(output=POS, probas={POS: 0.992, NEU: 0.006, NEG: 0.002}),\n",
       " AnalyzerOutput(output=NEG, probas={NEG: 0.804, NEU: 0.189, POS: 0.007}),\n",
       " AnalyzerOutput(output=NEU, probas={NEU: 0.962, NEG: 0.024, POS: 0.014}),\n",
       " AnalyzerOutput(output=POS, probas={POS: 0.937, NEU: 0.057, NEG: 0.006}),\n",
       " AnalyzerOutput(output=POS, probas={POS: 0.895, NEU: 0.099, NEG: 0.006}),\n",
       " AnalyzerOutput(output=NEG, probas={NEG: 0.990, NEU: 0.007, POS: 0.003}),\n",
       " AnalyzerOutput(output=NEU, probas={NEU: 0.941, POS: 0.041, NEG: 0.018}),\n",
       " AnalyzerOutput(output=POS, probas={POS: 0.987, NEU: 0.011, NEG: 0.002}),\n",
       " AnalyzerOutput(output=NEG, probas={NEG: 0.947, NEU: 0.042, POS: 0.011}),\n",
       " AnalyzerOutput(output=POS, probas={POS: 0.496, NEU: 0.479, NEG: 0.026}),\n",
       " AnalyzerOutput(output=POS, probas={POS: 0.915, NEU: 0.074, NEG: 0.011}),\n",
       " AnalyzerOutput(output=NEU, probas={NEU: 0.659, NEG: 0.332, POS: 0.008}),\n",
       " AnalyzerOutput(output=NEU, probas={NEU: 0.958, POS: 0.028, NEG: 0.014}),\n",
       " AnalyzerOutput(output=POS, probas={POS: 0.923, NEU: 0.072, NEG: 0.005}),\n",
       " AnalyzerOutput(output=NEG, probas={NEG: 0.985, NEU: 0.012, POS: 0.003}),\n",
       " AnalyzerOutput(output=NEU, probas={NEU: 0.944, POS: 0.037, NEG: 0.019}),\n",
       " AnalyzerOutput(output=POS, probas={POS: 0.982, NEU: 0.016, NEG: 0.002}),\n",
       " AnalyzerOutput(output=NEG, probas={NEG: 0.983, NEU: 0.013, POS: 0.004}),\n",
       " AnalyzerOutput(output=POS, probas={POS: 0.963, NEU: 0.033, NEG: 0.004}),\n",
       " AnalyzerOutput(output=POS, probas={POS: 0.909, NEU: 0.085, NEG: 0.006}),\n",
       " AnalyzerOutput(output=POS, probas={POS: 0.957, NEU: 0.039, NEG: 0.005})]"
      ]
     },
     "execution_count": 13,
     "metadata": {},
     "output_type": "execute_result"
    }
   ],
   "source": [
    "prev_result = model_analyser_sent.predict(df[\"Frase\"])\n",
    "prev_result"
   ]
  },
  {
   "cell_type": "code",
   "execution_count": 15,
   "metadata": {},
   "outputs": [],
   "source": [
    "sentiment = []\n",
    "for result in prev_result:\n",
    "    sentiment.append(result.output)"
   ]
  },
  {
   "cell_type": "code",
   "execution_count": 16,
   "metadata": {},
   "outputs": [
    {
     "data": {
      "text/plain": [
       "['POS',\n",
       " 'NEG',\n",
       " 'NEU',\n",
       " 'POS',\n",
       " 'NEG',\n",
       " 'NEU',\n",
       " 'POS',\n",
       " 'NEG',\n",
       " 'NEU',\n",
       " 'POS',\n",
       " 'POS',\n",
       " 'NEG',\n",
       " 'NEU',\n",
       " 'POS',\n",
       " 'NEG',\n",
       " 'POS',\n",
       " 'POS',\n",
       " 'NEU',\n",
       " 'NEU',\n",
       " 'POS',\n",
       " 'NEG',\n",
       " 'NEU',\n",
       " 'POS',\n",
       " 'NEG',\n",
       " 'POS',\n",
       " 'POS',\n",
       " 'POS']"
      ]
     },
     "execution_count": 16,
     "metadata": {},
     "output_type": "execute_result"
    }
   ],
   "source": [
    "sentiment"
   ]
  },
  {
   "cell_type": "code",
   "execution_count": 17,
   "metadata": {},
   "outputs": [
    {
     "data": {
      "text/html": [
       "<div>\n",
       "<style scoped>\n",
       "    .dataframe tbody tr th:only-of-type {\n",
       "        vertical-align: middle;\n",
       "    }\n",
       "\n",
       "    .dataframe tbody tr th {\n",
       "        vertical-align: top;\n",
       "    }\n",
       "\n",
       "    .dataframe thead th {\n",
       "        text-align: right;\n",
       "    }\n",
       "</style>\n",
       "<table border=\"1\" class=\"dataframe\">\n",
       "  <thead>\n",
       "    <tr style=\"text-align: right;\">\n",
       "      <th></th>\n",
       "      <th>ID</th>\n",
       "      <th>Frase</th>\n",
       "      <th>Sentimento</th>\n",
       "    </tr>\n",
       "  </thead>\n",
       "  <tbody>\n",
       "    <tr>\n",
       "      <th>0</th>\n",
       "      <td>1</td>\n",
       "      <td>Estou muito animado para começar o novo projet...</td>\n",
       "      <td>POS</td>\n",
       "    </tr>\n",
       "    <tr>\n",
       "      <th>1</th>\n",
       "      <td>2</td>\n",
       "      <td>Sinto-me frustrado porque o plano não saiu com...</td>\n",
       "      <td>NEG</td>\n",
       "    </tr>\n",
       "    <tr>\n",
       "      <th>2</th>\n",
       "      <td>3</td>\n",
       "      <td>O relatório está pronto e foi enviado para rev...</td>\n",
       "      <td>NEU</td>\n",
       "    </tr>\n",
       "    <tr>\n",
       "      <th>3</th>\n",
       "      <td>4</td>\n",
       "      <td>Foi ótimo ver todos os amigos na festa ontem à...</td>\n",
       "      <td>POS</td>\n",
       "    </tr>\n",
       "    <tr>\n",
       "      <th>4</th>\n",
       "      <td>5</td>\n",
       "      <td>O trânsito estava horrível e cheguei atrasado ...</td>\n",
       "      <td>NEG</td>\n",
       "    </tr>\n",
       "    <tr>\n",
       "      <th>5</th>\n",
       "      <td>6</td>\n",
       "      <td>Hoje o clima está nublado, mas não choveu.</td>\n",
       "      <td>NEU</td>\n",
       "    </tr>\n",
       "    <tr>\n",
       "      <th>6</th>\n",
       "      <td>7</td>\n",
       "      <td>Adorei o livro que você me recomendou; foi uma...</td>\n",
       "      <td>POS</td>\n",
       "    </tr>\n",
       "    <tr>\n",
       "      <th>7</th>\n",
       "      <td>8</td>\n",
       "      <td>Não consegui resolver o problema com o computa...</td>\n",
       "      <td>NEG</td>\n",
       "    </tr>\n",
       "    <tr>\n",
       "      <th>8</th>\n",
       "      <td>9</td>\n",
       "      <td>A reunião foi marcada para as 14h, como de cos...</td>\n",
       "      <td>NEU</td>\n",
       "    </tr>\n",
       "    <tr>\n",
       "      <th>9</th>\n",
       "      <td>10</td>\n",
       "      <td>Estou muito grato pelo apoio que recebi durant...</td>\n",
       "      <td>POS</td>\n",
       "    </tr>\n",
       "    <tr>\n",
       "      <th>10</th>\n",
       "      <td>11</td>\n",
       "      <td>Estou empolgado para a reunião de amanhã; acho...</td>\n",
       "      <td>POS</td>\n",
       "    </tr>\n",
       "    <tr>\n",
       "      <th>11</th>\n",
       "      <td>12</td>\n",
       "      <td>Estou frustrado com a falta de comunicação da ...</td>\n",
       "      <td>NEG</td>\n",
       "    </tr>\n",
       "    <tr>\n",
       "      <th>12</th>\n",
       "      <td>13</td>\n",
       "      <td>A revisão do projeto está em andamento e deve ...</td>\n",
       "      <td>NEU</td>\n",
       "    </tr>\n",
       "    <tr>\n",
       "      <th>13</th>\n",
       "      <td>14</td>\n",
       "      <td>Foi um prazer almoçar com você hoje, a convers...</td>\n",
       "      <td>POS</td>\n",
       "    </tr>\n",
       "    <tr>\n",
       "      <th>14</th>\n",
       "      <td>15</td>\n",
       "      <td>Eu estava preso no trânsito por mais de uma ho...</td>\n",
       "      <td>NEG</td>\n",
       "    </tr>\n",
       "    <tr>\n",
       "      <th>15</th>\n",
       "      <td>16</td>\n",
       "      <td>Apesar do mau tempo, consegui fazer a caminhad...</td>\n",
       "      <td>POS</td>\n",
       "    </tr>\n",
       "    <tr>\n",
       "      <th>16</th>\n",
       "      <td>17</td>\n",
       "      <td>Acabei de terminar um curso online e foi extre...</td>\n",
       "      <td>POS</td>\n",
       "    </tr>\n",
       "    <tr>\n",
       "      <th>17</th>\n",
       "      <td>18</td>\n",
       "      <td>Estou tendo problemas para acessar os arquivos...</td>\n",
       "      <td>NEU</td>\n",
       "    </tr>\n",
       "    <tr>\n",
       "      <th>18</th>\n",
       "      <td>19</td>\n",
       "      <td>A apresentação foi agendada para segunda-feira...</td>\n",
       "      <td>NEU</td>\n",
       "    </tr>\n",
       "    <tr>\n",
       "      <th>19</th>\n",
       "      <td>20</td>\n",
       "      <td>Estou satisfeito com o progresso que fizemos n...</td>\n",
       "      <td>POS</td>\n",
       "    </tr>\n",
       "    <tr>\n",
       "      <th>20</th>\n",
       "      <td>21</td>\n",
       "      <td>Eu não gostei muito do filme que assisti ontem...</td>\n",
       "      <td>NEG</td>\n",
       "    </tr>\n",
       "    <tr>\n",
       "      <th>21</th>\n",
       "      <td>22</td>\n",
       "      <td>Os documentos foram entregues e agora estão em...</td>\n",
       "      <td>NEU</td>\n",
       "    </tr>\n",
       "    <tr>\n",
       "      <th>22</th>\n",
       "      <td>23</td>\n",
       "      <td>Foi incrível ver o crescimento da empresa este...</td>\n",
       "      <td>POS</td>\n",
       "    </tr>\n",
       "    <tr>\n",
       "      <th>23</th>\n",
       "      <td>24</td>\n",
       "      <td>Estou irritado com as constantes quedas de ene...</td>\n",
       "      <td>NEG</td>\n",
       "    </tr>\n",
       "    <tr>\n",
       "      <th>24</th>\n",
       "      <td>25</td>\n",
       "      <td>A conferência foi bem organizada e proveitosa.</td>\n",
       "      <td>POS</td>\n",
       "    </tr>\n",
       "    <tr>\n",
       "      <th>25</th>\n",
       "      <td>26</td>\n",
       "      <td>Hoje o dia foi tranquilo e produtivo no escrit...</td>\n",
       "      <td>POS</td>\n",
       "    </tr>\n",
       "    <tr>\n",
       "      <th>26</th>\n",
       "      <td>27</td>\n",
       "      <td>Fiquei impressionado com a qualidade do serviç...</td>\n",
       "      <td>POS</td>\n",
       "    </tr>\n",
       "  </tbody>\n",
       "</table>\n",
       "</div>"
      ],
      "text/plain": [
       "    ID                                              Frase Sentimento\n",
       "0    1  Estou muito animado para começar o novo projet...        POS\n",
       "1    2  Sinto-me frustrado porque o plano não saiu com...        NEG\n",
       "2    3  O relatório está pronto e foi enviado para rev...        NEU\n",
       "3    4  Foi ótimo ver todos os amigos na festa ontem à...        POS\n",
       "4    5  O trânsito estava horrível e cheguei atrasado ...        NEG\n",
       "5    6         Hoje o clima está nublado, mas não choveu.        NEU\n",
       "6    7  Adorei o livro que você me recomendou; foi uma...        POS\n",
       "7    8  Não consegui resolver o problema com o computa...        NEG\n",
       "8    9  A reunião foi marcada para as 14h, como de cos...        NEU\n",
       "9   10  Estou muito grato pelo apoio que recebi durant...        POS\n",
       "10  11  Estou empolgado para a reunião de amanhã; acho...        POS\n",
       "11  12  Estou frustrado com a falta de comunicação da ...        NEG\n",
       "12  13  A revisão do projeto está em andamento e deve ...        NEU\n",
       "13  14  Foi um prazer almoçar com você hoje, a convers...        POS\n",
       "14  15  Eu estava preso no trânsito por mais de uma ho...        NEG\n",
       "15  16  Apesar do mau tempo, consegui fazer a caminhad...        POS\n",
       "16  17  Acabei de terminar um curso online e foi extre...        POS\n",
       "17  18  Estou tendo problemas para acessar os arquivos...        NEU\n",
       "18  19  A apresentação foi agendada para segunda-feira...        NEU\n",
       "19  20  Estou satisfeito com o progresso que fizemos n...        POS\n",
       "20  21  Eu não gostei muito do filme que assisti ontem...        NEG\n",
       "21  22  Os documentos foram entregues e agora estão em...        NEU\n",
       "22  23  Foi incrível ver o crescimento da empresa este...        POS\n",
       "23  24  Estou irritado com as constantes quedas de ene...        NEG\n",
       "24  25     A conferência foi bem organizada e proveitosa.        POS\n",
       "25  26  Hoje o dia foi tranquilo e produtivo no escrit...        POS\n",
       "26  27  Fiquei impressionado com a qualidade do serviç...        POS"
      ]
     },
     "execution_count": 17,
     "metadata": {},
     "output_type": "execute_result"
    }
   ],
   "source": [
    "df[\"Sentimento\"] = sentiment\n",
    "df"
   ]
  }
 ],
 "metadata": {
  "kernelspec": {
   "display_name": ".venv",
   "language": "python",
   "name": "python3"
  },
  "language_info": {
   "codemirror_mode": {
    "name": "ipython",
    "version": 3
   },
   "file_extension": ".py",
   "mimetype": "text/x-python",
   "name": "python",
   "nbconvert_exporter": "python",
   "pygments_lexer": "ipython3",
   "version": "3.11.5"
  }
 },
 "nbformat": 4,
 "nbformat_minor": 2
}
